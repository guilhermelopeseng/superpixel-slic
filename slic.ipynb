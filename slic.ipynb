{
 "cells": [
  {
   "cell_type": "code",
   "execution_count": 1,
   "metadata": {},
   "outputs": [],
   "source": [
    "import math\n",
    "from skimage import io, color\n",
    "from skimage.transform import resize\n",
    "import numpy as np"
   ]
  },
  {
   "cell_type": "code",
   "execution_count": 2,
   "metadata": {},
   "outputs": [],
   "source": [
    "class SuperPixels(object):\n",
    "\n",
    "    def __init__(self, h, w, l=0, a=0, b=0):\n",
    "        self.update(h, w, l, a, b)\n",
    "        self.pixels = []\n",
    "\n",
    "    def update(self, h, w, l, a, b):\n",
    "        self.h = h\n",
    "        self.w = w\n",
    "        self.l = l\n",
    "        self.a = a\n",
    "        self.b = b"
   ]
  },
  {
   "cell_type": "code",
   "execution_count": 3,
   "metadata": {},
   "outputs": [],
   "source": [
    "def atribuir_superPixel(h,w, img):\n",
    "    return SuperPixels(h, w,img[h,w][0],img[h,w][1],img[h,w][2])\n",
    "\n",
    "def lab2rgb(path, lab_arr):\n",
    "    rgb_arr = color.lab2rgb(lab_arr)\n",
    "    im = (rgb_arr * 255).astype(np.uint8)\n",
    "    io.imsave(path, im)"
   ]
  },
  {
   "cell_type": "markdown",
   "metadata": {},
   "source": [
    "## Função para inicializar cada centro do cluster\n",
    "Para saber a posição h,w do pixel central: Sabendo que temos S que é a distância entre os centros, se assumir como quadrados e de vizinhos, o valor da distância do pixel central será S / 2."
   ]
  },
  {
   "cell_type": "code",
   "execution_count": 4,
   "metadata": {},
   "outputs": [],
   "source": [
    "def inicializar_cluster_centro(S, img, img_h, img_w, clusters):\n",
    "    h = S // 2\n",
    "    w = S // 2\n",
    "    while h < img_h:\n",
    "        while w < img_w:\n",
    "            clusters.append(atribuir_superPixel(h, w,img))\n",
    "            w += S\n",
    "        w = S // 2\n",
    "        h += S\n",
    "    return clusters"
   ]
  },
  {
   "cell_type": "code",
   "execution_count": 5,
   "metadata": {},
   "outputs": [
    {
     "name": "stdout",
     "output_type": "stream",
     "text": [
      "20 20\n",
      "20 60\n",
      "20 100\n",
      "20 140\n",
      "20 180\n",
      "20 220\n",
      "20 260\n",
      "20 300\n",
      "20 340\n",
      "20 380\n",
      "60 20\n",
      "60 60\n",
      "60 100\n",
      "60 140\n",
      "60 180\n",
      "60 220\n",
      "60 260\n",
      "60 300\n",
      "60 340\n",
      "60 380\n",
      "100 20\n",
      "100 60\n",
      "100 100\n",
      "100 140\n",
      "100 180\n",
      "100 220\n",
      "100 260\n",
      "100 300\n",
      "100 340\n",
      "100 380\n",
      "140 20\n",
      "140 60\n",
      "140 100\n",
      "140 140\n",
      "140 180\n",
      "140 220\n",
      "140 260\n",
      "140 300\n",
      "140 340\n",
      "140 380\n",
      "180 20\n",
      "180 60\n",
      "180 100\n",
      "180 140\n",
      "180 180\n",
      "180 220\n",
      "180 260\n",
      "180 300\n",
      "180 340\n",
      "180 380\n",
      "220 20\n",
      "220 60\n",
      "220 100\n",
      "220 140\n",
      "220 180\n",
      "220 220\n",
      "220 260\n",
      "220 300\n",
      "220 340\n",
      "220 380\n",
      "260 20\n",
      "260 60\n",
      "260 100\n",
      "260 140\n",
      "260 180\n",
      "260 220\n",
      "260 260\n",
      "260 300\n",
      "260 340\n",
      "260 380\n",
      "300 20\n",
      "300 60\n",
      "300 100\n",
      "300 140\n",
      "300 180\n",
      "300 220\n",
      "300 260\n",
      "300 300\n",
      "300 340\n",
      "300 380\n",
      "340 20\n",
      "340 60\n",
      "340 100\n",
      "340 140\n",
      "340 180\n",
      "340 220\n",
      "340 260\n",
      "340 300\n",
      "340 340\n",
      "340 380\n",
      "380 20\n",
      "380 60\n",
      "380 100\n",
      "380 140\n",
      "380 180\n",
      "380 220\n",
      "380 260\n",
      "380 300\n",
      "380 340\n",
      "380 380\n"
     ]
    }
   ],
   "source": [
    "image = io.imread(\"picos.jpg\")\n",
    "img = resize(image, (400,400),anti_aliasing=True)\n",
    "img = color.rgb2lab(img)\n",
    "\n",
    "k = 100\n",
    "m = 20\n",
    "\n",
    "img_h = img.shape[0] # Image Height\n",
    "img_w = img.shape[1] # Image Width\n",
    "\n",
    "N = img_h * img_w  # Total number of pixels in the image\n",
    "S = int(math.sqrt(N /k)) # average size of each superpixel\n",
    "\n",
    "clusters = []\n",
    "inicializar_cluster_centro(S, img, img_h, img_w, clusters)\n",
    "for c in clusters:\n",
    "    print(c.h, c.w)"
   ]
  },
  {
   "cell_type": "markdown",
   "metadata": {},
   "source": [
    "## Associar cada pixel ao centro do cluster mais próximo\n",
    "Para isso utilizou-se o calculo do gradiente"
   ]
  },
  {
   "cell_type": "code",
   "execution_count": 6,
   "metadata": {},
   "outputs": [],
   "source": [
    "def calculo_gradiente(h, w,img,img_w,img_h):\n",
    "    if w + 1 >= img_w:\n",
    "        w = img_w - 2\n",
    "    if h + 1 >= img_h:\n",
    "        h = img_h - 2\n",
    "    grad = img[w + 1, h + 1][0] - img[w, h][0] + img[w + 1, h + 1][1] - img[w, h][1] + img[w + 1, h + 1][2] - img[w, h][2]\n",
    "    return grad"
   ]
  },
  {
   "cell_type": "markdown",
   "metadata": {},
   "source": [
    "Reatribui o centro do cluster ao pixel com menor gradiente"
   ]
  },
  {
   "cell_type": "code",
   "execution_count": 7,
   "metadata": {},
   "outputs": [],
   "source": [
    "def reatribuir_cluster_centro_gradiente(clusters,img):\n",
    "    for c in clusters:\n",
    "        cluster_gradient = calculo_gradiente(c.h, c.w,img,img_w,img_h)\n",
    "        for dh in range(-1, 2):\n",
    "            for dw in range(-1, 2):\n",
    "                H = c.h + dh\n",
    "                W = c.w + dw\n",
    "                new_gradient = calculo_gradiente(H,W, img,img_w,img_h)\n",
    "                if new_gradient < cluster_gradient:\n",
    "                    c.update(H, W,img[H,W][0], img[H,W][1],img[H,W][2])"
   ]
  },
  {
   "cell_type": "markdown",
   "metadata": {},
   "source": [
    "Atribui os pixels ao cluster mais próximo"
   ]
  },
  {
   "cell_type": "code",
   "execution_count": 8,
   "metadata": {},
   "outputs": [],
   "source": [
    "def associar_pixel_ao_cluster(clusters,S,img,img_h,img_w,tag,dis):\n",
    "    for c in clusters:\n",
    "        for h in range(c.h - 2 * S, c.h + 2 * S):\n",
    "            if h < 0 or h >= img_h: \n",
    "                continue\n",
    "            for w in range(c.w - 2 * S, c.w + 2 * S):\n",
    "                if w < 0 or w >= img_w: \n",
    "                    continue\n",
    "                l, a, b = img[h,w]\n",
    "                Dc = math.sqrt(math.pow(l - c.l, 2) + math.pow(a - c.a, 2) + math.pow(b - c.b, 2))\n",
    "                Ds = math.sqrt(math.pow(h - c.h, 2) + math.pow(w - c.w, 2))\n",
    "                D = math.sqrt(math.pow(Dc / m, 2) + math.pow(Ds /S, 2))\n",
    "                if D < dis[h,w]: # Dis é o vetor de distância (inicializado sendo os valores inf)\n",
    "                    if (h, w) not in tag:\n",
    "                        tag[(h, w)] = c\n",
    "                        c.pixels.append((h, w))\n",
    "                    else:\n",
    "                        tag[(h, w)].pixels.remove((h, w))\n",
    "                        tag[(h, w)] = c\n",
    "                        c.pixels.append((h, w))\n",
    "                    dis[h, w] = D"
   ]
  },
  {
   "cell_type": "code",
   "execution_count": 9,
   "metadata": {},
   "outputs": [],
   "source": [
    "def atualizar_cluster_media(clusters):\n",
    "    for c in clusters:\n",
    "        sum_h = sum_w = number = 0\n",
    "        #print(\"c.pixels\",c.pixels)\n",
    "        for p in c.pixels:\n",
    "            sum_h += p[0]\n",
    "            sum_w += p[1]\n",
    "            number += 1\n",
    "            H = sum_h // number\n",
    "            W = sum_w // number\n",
    "            c.update(H, W,img[H, W][0], img[H, W][1], img[H, W][2])"
   ]
  },
  {
   "cell_type": "code",
   "execution_count": 10,
   "metadata": {},
   "outputs": [],
   "source": [
    "def avg_color_cluster(img,name,clusters):\n",
    "    image = np.copy(img)\n",
    "    for c in clusters:\n",
    "        for p in c.pixels:\n",
    "            image[p[0],p[1]][0] = c.l\n",
    "            image[p[0],p[1]][1] = c.a\n",
    "            image[p[0],p[1]][2] = c.b\n",
    "        # To change the color of cluster center to Black\n",
    "        image[c.h, c.w][0] = 0\n",
    "        image[c.h, c.w][1] = 0\n",
    "        image[c.h, c.w][2] = 0\n",
    "    lab2rgb(name, image)"
   ]
  },
  {
   "cell_type": "code",
   "execution_count": 11,
   "metadata": {},
   "outputs": [],
   "source": [
    "def slic(S,img,img_h,img_w,clusters,tag,dis):\n",
    "    clusters = inicializar_cluster_centro(S,img,img_h,img_w,clusters)\n",
    "    reatribuir_cluster_centro_gradiente(clusters,img)\n",
    "    \n",
    "    for i in range(10):\n",
    "        associar_pixel_ao_cluster(clusters,S,img,img_h,img_w,tag,dis)\n",
    "        atualizar_cluster_media(clusters)\n",
    "        \n",
    "    name = 'out_m{m}_k{k}.jpg'.format(loop=i, m=m, k=k)\n",
    "    avg_color_cluster(img, name, clusters)\n",
    "    return clusters"
   ]
  },
  {
   "cell_type": "code",
   "execution_count": 15,
   "metadata": {},
   "outputs": [],
   "source": [
    "image = io.imread(\"picos.jpg\")\n",
    "\n",
    "img = resize(image, (500,500),anti_aliasing=True)\n",
    "img = color.rgb2lab(img)\n",
    "\n",
    "k = 100\n",
    "m = 20\n",
    "\n",
    "img_h = img.shape[0]\n",
    "img_w = img.shape[1]\n",
    "\n",
    "N = img_h * img_w\n",
    "S = int(math.sqrt(N /k))\n",
    "\n",
    "clusters = []\n",
    "tag = {}\n",
    "dis = np.full((img_h, img_w), np.inf)"
   ]
  },
  {
   "cell_type": "code",
   "execution_count": 16,
   "metadata": {},
   "outputs": [],
   "source": [
    "cluster = slic(S,img,img_h,img_w,clusters,tag,dis)"
   ]
  },
  {
   "cell_type": "code",
   "execution_count": null,
   "metadata": {},
   "outputs": [],
   "source": []
  }
 ],
 "metadata": {
  "kernelspec": {
   "display_name": "venv",
   "language": "python",
   "name": "python3"
  },
  "language_info": {
   "codemirror_mode": {
    "name": "ipython",
    "version": 3
   },
   "file_extension": ".py",
   "mimetype": "text/x-python",
   "name": "python",
   "nbconvert_exporter": "python",
   "pygments_lexer": "ipython3",
   "version": "3.8.10"
  }
 },
 "nbformat": 4,
 "nbformat_minor": 2
}
